{
  "cells": [
    {
      "cell_type": "markdown",
      "metadata": {
        "id": "HhVf2WmcH3n4"
      },
      "source": [
        "Copyright 2023 Google LLC\n",
        "\n",
        "Licensed under the Apache License, Version 2.0 (the \"License\");\n",
        "you may not use this file except in compliance with the License.\n",
        "You may obtain a copy of the License at\n",
        "\n",
        "    https://www.apache.org/licenses/LICENSE-2.0\n",
        "\n",
        "Unless required by applicable law or agreed to in writing, software\n",
        "distributed under the License is distributed on an \"AS IS\" BASIS,\n",
        "WITHOUT WARRANTIES OR CONDITIONS OF ANY KIND, either express or implied.\n",
        "See the License for the specific language governing permissions and\n",
        "limitations under the License."
      ]
    },
    {
      "cell_type": "code",
      "execution_count": null,
      "metadata": {
        "id": "T7gQKMxvH68k"
      },
      "outputs": [],
      "source": [
        "# install necessary dependencies\n",
        "!pip install -r requirements.txt"
      ]
    },
    {
      "cell_type": "code",
      "execution_count": null,
      "metadata": {
        "id": "5rIs8wHFh7VM"
      },
      "outputs": [],
      "source": [
        "from jax.config import config\n",
        "config.update('jax_enable_x64', True)\n",
        "\n",
        "import jax.numpy as jnp\n",
        "import jax\n",
        "\n",
        "import matplotlib\n",
        "import matplotlib.pyplot as plt\n",
        "\n",
        "from importlib import reload"
      ]
    },
    {
      "cell_type": "code",
      "execution_count": null,
      "metadata": {
        "id": "W2O5ybAcKk1d"
      },
      "outputs": [],
      "source": [
        "from trajax import integrators\n",
        "from trajax.experimental.sqp import shootsqp, util"
      ]
    },
    {
      "cell_type": "code",
      "execution_count": null,
      "metadata": {
        "id": "EBCr7UesZU2h"
      },
      "outputs": [],
      "source": [
        "reload(shootsqp)\n",
        "reload(util)"
      ]
    },
    {
      "cell_type": "markdown",
      "metadata": {
        "id": "EP5jUkwbE6Vm"
      },
      "source": [
        "# Define Problem"
      ]
    },
    {
      "cell_type": "markdown",
      "metadata": {
        "id": "6OSRWDMOKuE7"
      },
      "source": [
        "## Setup Obstacle environment"
      ]
    },
    {
      "cell_type": "code",
      "execution_count": null,
      "metadata": {
        "id": "13XA51w5h944"
      },
      "outputs": [],
      "source": [
        "# @title {vertical-output: true}\n",
        "\n",
        "obs = [(jnp.array([1., 1.]), 0.5),\n",
        "          (jnp.array([1, 2.5]), 0.5),\n",
        "          (jnp.array([2.5, 2.5]), 0.5)]\n",
        "\n",
        "def render_scene():\n",
        "  # Setup obstacle environment for state constraint\n",
        "  world_range = (jnp.array([-0.5, -0.5]), jnp.array([3.5, 3.5]))\n",
        "\n",
        "  fig = plt.figure(figsize=(6,6))\n",
        "  ax = fig.add_subplot(111)\n",
        "  plt.grid(False)\n",
        "\n",
        "  for ob in obs:\n",
        "    ax.add_patch(plt.Circle(ob[0], ob[1], color='k', alpha=0.3))\n",
        "  ax.set_xlim([world_range[0][0], world_range[1][0]])\n",
        "  ax.set_ylim([world_range[0][1], world_range[1][1]])\n",
        "\n",
        "  ax.set_aspect('equal')\n",
        "  return fig, ax\n",
        "\n",
        "_ = render_scene()"
      ]
    },
    {
      "cell_type": "markdown",
      "metadata": {
        "id": "G0xh9lz8Np00"
      },
      "source": [
        "## Setup Dynamics, cost, constraints"
      ]
    },
    {
      "cell_type": "code",
      "execution_count": null,
      "metadata": {
        "id": "ED8AjK0o6ZqW"
      },
      "outputs": [],
      "source": [
        "# Setup discrete-time dynamics\n",
        "def car_ode(x, u, t):\n",
        "  del t\n",
        "  return jnp.array([x[3] * jnp.sin(x[2]),\n",
        "                    x[3] * jnp.cos(x[2]),\n",
        "                    x[3] * u[0],\n",
        "                    u[1]])\n",
        "dt = 0.05\n",
        "dynamics = integrators.euler(car_ode, dt=dt)\n",
        "\n",
        "# Constants\n",
        "n, m, T = (4, 2, 40)\n",
        "\n",
        "# Indices of state corresponding to S1 sphere constraints\n",
        "s1_indices = (2,)\n",
        "state_wrap = util.get_s1_wrapper(s1_indices)\n",
        "\n",
        "\n",
        "# Cost function.\n",
        "R = jnp.diag(jnp.array([0.2, 0.1]))\n",
        "Q_T = jnp.diag(jnp.array([50., 50., 50., 10.]))\n",
        "goal_default = jnp.array([3., 3., jnp.pi/2, 0.])\n",
        "\n",
        "@jax.jit\n",
        "def cost(x, u, t, goal=goal_default):\n",
        "  stage_cost = dt * jnp.vdot(u, R @ u)\n",
        "  delta = state_wrap(x - goal)\n",
        "  term_cost = jnp.vdot(delta, Q_T @ delta)\n",
        "  return jnp.where(t == T, term_cost, stage_cost)\n",
        "\n",
        "# Control box bounds\n",
        "control_bounds = (jnp.array([-jnp.pi/3., -6.]),\n",
        "                  jnp.array([jnp.pi/3., 6.]))\n",
        "\n",
        "# Obstacle avoidance constraint function\n",
        "def obs_constraint(pos):\n",
        "  def avoid_obs(pos_c, ob):\n",
        "    delta_body = pos_c - ob[0]\n",
        "    delta_dist_sq = jnp.vdot(delta_body, delta_body) - (ob[1]**2)\n",
        "    return delta_dist_sq\n",
        "  return jnp.array([avoid_obs(pos, ob) for ob in obs])\n",
        "\n",
        "# State constraint function\n",
        "@jax.jit\n",
        "def state_constraint(x, t):\n",
        "  del t\n",
        "  pos = x[0:2]\n",
        "  return obs_constraint(pos)"
      ]
    },
    {
      "cell_type": "markdown",
      "metadata": {
        "id": "3DlKW53dWyFj"
      },
      "source": [
        "# Define Solver"
      ]
    },
    {
      "cell_type": "code",
      "execution_count": null,
      "metadata": {
        "id": "T5StzngsNgBZ"
      },
      "outputs": [],
      "source": [
        "# Define Solver\n",
        "solver_options = dict(method=shootsqp.SQP_METHOD.SENS,\n",
        "                      ddp_options={'ddp_gamma': 1e-4},\n",
        "                      hess=\"full\", verbose=True,\n",
        "                      max_iter=100, ls_eta=0.49, ls_beta=0.8,\n",
        "                      primal_tol=1e-3, dual_tol=1e-3, stall_check=\"abs\",\n",
        "                      debug=False)\n",
        "solver = shootsqp.ShootSQP(n, m, T, dynamics, cost, control_bounds,\n",
        "                           state_constraint, s1_ind=s1_indices, **solver_options)"
      ]
    },
    {
      "cell_type": "code",
      "execution_count": null,
      "metadata": {
        "id": "NZGvnNpgNs27"
      },
      "outputs": [],
      "source": [
        "# Variations to try:\n",
        "# method={OPEN, SENS}\n",
        "# proj_init={FALSE, TRUE}"
      ]
    },
    {
      "cell_type": "markdown",
      "metadata": {
        "id": "6zLrDskwWzoW"
      },
      "source": [
        "# Solve"
      ]
    },
    {
      "cell_type": "markdown",
      "metadata": {
        "id": "bWLmXhXyQE4O"
      },
      "source": [
        "## Set initial conditions and guess"
      ]
    },
    {
      "cell_type": "code",
      "execution_count": null,
      "metadata": {
        "id": "3JpUIKqNQ-UM"
      },
      "outputs": [],
      "source": [
        "# Set initial conditions and problem parameters\n",
        "# x0 = jnp.zeros((n,))\n",
        "# x0 = jnp.array([0.25, 1.75, 0., 0.])\n",
        "x0 = jnp.array([1.75, 1.0, 0., 0.])\n",
        "U0 = jnp.zeros((T, m))\n",
        "X0 = None\n",
        "solver.opt.proj_init = False"
      ]
    },
    {
      "cell_type": "code",
      "execution_count": null,
      "metadata": {
        "id": "AgPofLmiN5Fm"
      },
      "outputs": [],
      "source": [
        "# Optional X0 guess (must set solver.opt.proj_init = True)\n",
        "solver.opt.proj_init = True\n",
        "waypoints = jnp.array([\n",
        "    x0[:2], jnp.array([1.75, 3.0]), goal_default[:2]\n",
        "])\n",
        "X0 = jnp.concatenate((\n",
        "    jnp.linspace(waypoints[0], waypoints[1], int(T//2)),\n",
        "    jnp.linspace(waypoints[1], waypoints[2], int(T//2) + 2)[1:]\n",
        "))\n",
        "# Augment with zeros\n",
        "X0 = jnp.hstack((X0, jnp.zeros((T+1, 2))))"
      ]
    },
    {
      "cell_type": "markdown",
      "metadata": {
        "id": "6ZWHgBD6QHUl"
      },
      "source": [
        "## Solve"
      ]
    },
    {
      "cell_type": "code",
      "execution_count": null,
      "metadata": {
        "id": "m2pnU0IxiuGX"
      },
      "outputs": [],
      "source": [
        "# Run for one iteration to jit first\n",
        "solver.opt.max_iter = 1\n",
        "_ = solver.solve(x0, U0, X0)"
      ]
    },
    {
      "cell_type": "code",
      "execution_count": null,
      "metadata": {
        "id": "kZ2UrdA9Pn6C"
      },
      "outputs": [],
      "source": [
        "# Run to completion\n",
        "solver.opt.max_iter = 100\n",
        "soln = solver.solve(x0, U0, X0)"
      ]
    },
    {
      "cell_type": "code",
      "execution_count": null,
      "metadata": {
        "id": "uNTRc2Q-xVie"
      },
      "outputs": [],
      "source": [
        "print(soln.iterations, soln.objective)\n",
        "soln.kkt_residuals"
      ]
    },
    {
      "cell_type": "markdown",
      "metadata": {
        "id": "fH_NgUoMWt9w"
      },
      "source": [
        "# Plot solution"
      ]
    },
    {
      "cell_type": "code",
      "execution_count": null,
      "metadata": {
        "id": "d4PyrK3y3hXR"
      },
      "outputs": [],
      "source": [
        "#@title {vertical-output: true}\n",
        "%matplotlib inline\n",
        "\n",
        "plt.rcParams.update({'font.size': 20})\n",
        "matplotlib.rcParams['pdf.fonttype'] = 42\n",
        "matplotlib.rcParams['ps.fonttype'] = 42\n",
        "\n",
        "fig, ax = render_scene()\n",
        "U, X = soln.primals\n",
        "ax.plot(X[:, 0], X[:, 1], 'r-', linewidth=2)\n",
        "\n",
        "for t in jnp.arange(0, solver._T+1, 5):\n",
        "  ax.arrow(X[t, 0], X[t, 1],\n",
        "      0.2 * jnp.sin(X[t, 2]), 0.2 * jnp.cos(X[t, 2]),\n",
        "      width=0.05, color='c')\n",
        "\n",
        "# Start\n",
        "ax.add_patch(plt.Circle([x0[0], x0[1]], 0.1, color='g', alpha=0.3))\n",
        "# End\n",
        "ax.add_patch(plt.Circle([goal_default[0], goal_default[1]], 0.1, color='r', alpha=0.3))\n",
        "\n",
        "ax.set_aspect('equal')"
      ]
    },
    {
      "cell_type": "code",
      "execution_count": null,
      "metadata": {
        "id": "oiDZTgaFj0z8"
      },
      "outputs": [],
      "source": [
        "# @title {vertical-output: true}\n",
        "%matplotlib inline\n",
        "\n",
        "fig = plt.figure(figsize=(6, 6))\n",
        "ax = fig.add_subplot(111)\n",
        "ax.grid(True)\n",
        "plt.plot(solver._timesteps[:-1]*dt, U, markersize=5)\n",
        "ax.set_ylabel('U')\n",
        "ax.set_xlabel('Time [s]')\n"
      ]
    },
    {
      "cell_type": "markdown",
      "metadata": {
        "id": "sqdo02BYW3zl"
      },
      "source": [
        "# Plot solver progress"
      ]
    },
    {
      "cell_type": "code",
      "execution_count": null,
      "metadata": {
        "id": "rZzxEOXKf6r0"
      },
      "outputs": [],
      "source": [
        "import seaborn as sns\n",
        "colors = sns.color_palette(\"tab10\")"
      ]
    },
    {
      "cell_type": "code",
      "execution_count": null,
      "metadata": {
        "id": "5XAU-2nVMA4j"
      },
      "outputs": [],
      "source": [
        "history = soln.history\n",
        "history.keys()"
      ]
    },
    {
      "cell_type": "code",
      "execution_count": null,
      "metadata": {
        "id": "CSLq3-so3olO"
      },
      "outputs": [],
      "source": [
        "#@title {vertical-output: true}\n",
        "%matplotlib inline\n",
        "\n",
        "plt.rcParams.update({'font.size': 24})\n",
        "matplotlib.rcParams['pdf.fonttype'] = 42\n",
        "matplotlib.rcParams['ps.fonttype'] = 42\n",
        "\n",
        "fig, axs = plt.subplots(2, 2, figsize=(15, 15))\n",
        "\n",
        "axs[0][0].plot(history['steplength'], color=colors[0], linewidth=2)\n",
        "axs[0][0].set_title('Step size')\n",
        "axs[0][0].grid(True)\n",
        "\n",
        "axs[0][1].plot(history['obj'], color=colors[0], linewidth=2)\n",
        "axs[0][1].set_title('Objective')\n",
        "axs[0][1].set_yscale('log')\n",
        "axs[0][1].grid(True)\n",
        "\n",
        "axs[1][0].plot(history['min_viol'], color=colors[0], linewidth=2)\n",
        "axs[1][0].set_title('Min constraint viol.')\n",
        "axs[1][0].set_xlabel('Iteration')\n",
        "axs[1][0].grid(True)\n",
        "\n",
        "if 'ddp_err' in history:\n",
        "  axs[1][1].plot(history['ddp_err'], color=colors[0], linewidth=2)\n",
        "  axs2 = axs[1][1].twinx()\n",
        "  axs2.plot(history['ddp_err_grad'], color=colors[1], linewidth=2)\n",
        "  axs2.set_yscale(\"log\")\n",
        "  axs[1][1].set_title('DDP errors')\n",
        "  axs[1][1].set_xlabel('Iteration')\n",
        "  axs[1][1].grid(True)"
      ]
    },
    {
      "cell_type": "code",
      "execution_count": null,
      "metadata": {
        "id": "HSfuJfcjgZuN"
      },
      "outputs": [],
      "source": []
    }
  ],
  "metadata": {
    "colab": {
      "provenance": [],
      "toc_visible": true
    },
    "kernelspec": {
      "display_name": "Python 3",
      "name": "python3"
    },
    "language_info": {
      "name": "python"
    }
  },
  "nbformat": 4,
  "nbformat_minor": 0
}
