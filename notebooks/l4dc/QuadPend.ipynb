{
  "cells": [
    {
      "cell_type": "markdown",
      "metadata": {
        "id": "9Mz-0QWGIu6E"
      },
      "source": [
        "Copyright 2023 Google LLC\n",
        "\n",
        "Licensed under the Apache License, Version 2.0 (the \"License\");\n",
        "you may not use this file except in compliance with the License.\n",
        "You may obtain a copy of the License at\n",
        "\n",
        "    https://www.apache.org/licenses/LICENSE-2.0\n",
        "\n",
        "Unless required by applicable law or agreed to in writing, software\n",
        "distributed under the License is distributed on an \"AS IS\" BASIS,\n",
        "WITHOUT WARRANTIES OR CONDITIONS OF ANY KIND, either express or implied.\n",
        "See the License for the specific language governing permissions and\n",
        "limitations under the License."
      ]
    },
    {
      "cell_type": "code",
      "execution_count": null,
      "metadata": {
        "id": "lOD2msMDIz1A"
      },
      "outputs": [],
      "source": [
        "# install necessary dependencies\n",
        "!pip install -r requirements.txt"
      ]
    },
    {
      "cell_type": "code",
      "execution_count": null,
      "metadata": {
        "id": "5rIs8wHFh7VM"
      },
      "outputs": [],
      "source": [
        "from jax.config import config\n",
        "config.update('jax_enable_x64', True)\n",
        "\n",
        "import jax.numpy as jnp\n",
        "import jax\n",
        "\n",
        "import numpy as np\n",
        "\n",
        "import matplotlib\n",
        "import matplotlib.pyplot as plt\n",
        "\n",
        "from importlib import reload"
      ]
    },
    {
      "cell_type": "code",
      "execution_count": null,
      "metadata": {
        "id": "-6mG5hKiZ27F"
      },
      "outputs": [],
      "source": [
        "from trajax import integrators\n",
        "from trajax.experimental.sqp import shootsqp, util"
      ]
    },
    {
      "cell_type": "code",
      "execution_count": null,
      "metadata": {
        "id": "CffebDDJcp46"
      },
      "outputs": [],
      "source": [
        "reload(shootsqp)\n",
        "reload(util)"
      ]
    },
    {
      "cell_type": "markdown",
      "metadata": {
        "id": "EP5jUkwbE6Vm"
      },
      "source": [
        "# Define Dynamics via Lagrangian approach"
      ]
    },
    {
      "cell_type": "code",
      "execution_count": null,
      "metadata": {
        "id": "Yqay-G47E7sf"
      },
      "outputs": [],
      "source": [
        "from jax import grad, jvp\n",
        "\n",
        "n = 8\n",
        "m = 2\n",
        "\n",
        "Mass=0.486\n",
        "mass = 0.2*Mass\n",
        "grav = 9.81\n",
        "l = 0.25\n",
        "L = 2*l\n",
        "J = 0.00383\n",
        "fric = 0.01\n",
        "u_hover = 0.5*(Mass+mass)*grav*jnp.ones((m,))\n",
        "\n",
        "# State: q = (p_x, p_y, theta, phi, velocities)\n",
        "# where theta: rotation angle of quad\n",
        "# phi: rotation angle of pendulum, w.r.t. vertical (NOTE: not a relative angle)\n",
        "\n",
        "def get_mass_matrix(q):\n",
        "  phi = q[-1]\n",
        "  M_q = jnp.array([[Mass+mass, 0., 0., mass*L*jnp.cos(phi)],\n",
        "                  [0., Mass+mass, 0., mass*L*jnp.sin(phi)],\n",
        "                  [0., 0., J, 0.],\n",
        "                  [mass*L*jnp.cos(phi), mass*L*jnp.sin(phi), 0., mass*L*L]])\n",
        "  return M_q\n",
        "\n",
        "def get_mass_inv(q):\n",
        "  phi = q[-1]\n",
        "  a = Mass + mass\n",
        "  b = mass*L*jnp.cos(phi)\n",
        "  c = mass*L*jnp.sin(phi)\n",
        "  d = mass*L*L\n",
        "  den = (mass*L)**2. - a*d\n",
        "  M_inv = jnp.array([[(c*c-a*d)/(a*den), -(b*c)/(a*den), 0., (b/den)],\n",
        "                    [-(b*c)/(a*den), (b*b-a*d)/(a*den), 0., (c/den)],\n",
        "                    [0., 0., (1./J), 0.],\n",
        "                    [(b/den), (c/den), 0., -(a/den)]])\n",
        "  return M_inv\n",
        "\n",
        "kinetic = lambda q, q_dot: 0.5 * jnp.vdot(q_dot, get_mass_matrix(q) @ q_dot)\n",
        "potential = lambda q: Mass*grav*q[1] + mass*grav*(q[1] - L*jnp.cos(q[-1]))\n",
        "lag = lambda q, q_dot: kinetic(q, q_dot) - potential(q)\n",
        "dL_dq = grad(lag, 0)\n",
        "\n",
        "@jax.jit\n",
        "def ode(x, u, t):\n",
        "  del t\n",
        "  q, q_dot = jnp.split(x, [4])\n",
        "  # (M_q * q_ddot + M_dot * q_dot) - (dL_dq) = F_q\n",
        "  M_q, M_dot = jvp(get_mass_matrix, (q,), (q_dot,))\n",
        "  M_inv = get_mass_inv(q)\n",
        "  torque_fric_pole = -fric * (q_dot[-1] - q_dot[-2])\n",
        "  F_q = jnp.array([-jnp.sum(u)*jnp.sin(q[2]),\n",
        "                   jnp.sum(u)*jnp.cos(q[2]),\n",
        "                  (u[0]-u[1])*l - torque_fric_pole,\n",
        "                  torque_fric_pole])\n",
        "  q_ddot = M_inv @ (F_q + dL_dq(q, q_dot) - (M_dot @ q_dot))\n",
        "  return jnp.concatenate((q_dot, q_ddot))\n",
        "\n",
        "dt = 0.025\n",
        "dynamics = integrators.euler(ode, dt)"
      ]
    },
    {
      "cell_type": "code",
      "execution_count": null,
      "metadata": {
        "id": "Tix-sazaV4RB"
      },
      "outputs": [],
      "source": [
        "from jax import random\n",
        "key = random.PRNGKey(1234)"
      ]
    },
    {
      "cell_type": "code",
      "execution_count": null,
      "metadata": {
        "id": "oWpKE8BoVyKh"
      },
      "outputs": [],
      "source": [
        "# Confirm mass matrix and inverse computation\n",
        "q = random.uniform(key, shape=(4,))\n",
        "np.allclose(get_mass_matrix(q) @ get_mass_inv(q), np.eye(4))"
      ]
    },
    {
      "cell_type": "markdown",
      "metadata": {
        "id": "ganRCUuG-HCU"
      },
      "source": [
        "# Define Quad Geometry"
      ]
    },
    {
      "cell_type": "code",
      "execution_count": null,
      "metadata": {
        "id": "WHbJ1BpEn0nf"
      },
      "outputs": [],
      "source": [
        "# Define Geometry\n",
        "\n",
        "quad = (jnp.array([[-l, 0.],\n",
        "                   [l, 0.]]),\n",
        "        jnp.array([[-l, 0.],\n",
        "                  [-l, 0.3*l]]),\n",
        "        jnp.array([[l, 0.],\n",
        "                  [l, 0.3*l]]),\n",
        "        jnp.array([[-1.3*l, 0.3*l],\n",
        "                  [-0.7*l, 0.3*l]]),\n",
        "        jnp.array([[0.7*l, 0.3*l],\n",
        "                  [1.3*l, 0.3*l]]))\n",
        "\n",
        "def render_quad(ax, x, y, theta, phi, col=None, show_ell=0.05):\n",
        "\n",
        "  pos = jnp.array([x, y])\n",
        "  R = jnp.array([[jnp.cos(theta), -jnp.sin(theta)],\n",
        "                [jnp.sin(theta), jnp.cos(theta)]])\n",
        "\n",
        "  # Update quad endpoints\n",
        "  quad_comps = tuple(v @ R.T + pos for v in quad)\n",
        "\n",
        "  for comp in quad_comps:\n",
        "    ax.plot(comp[:,0], comp[:,1],\n",
        "            color=col if col is not None else 'k', linewidth=2)\n",
        "\n",
        "  # Circumscribing sphere for quad\n",
        "  pos_c = pos + R @ jnp.array([0., 0.15*l])\n",
        "  ell = plt.Circle(pos_c, l, alpha=show_ell, color='k')\n",
        "  ax.add_patch(ell)\n",
        "\n",
        "  # Pole\n",
        "  pole_new = jnp.array([[x, y],\n",
        "                       [x + L*jnp.sin(phi), y - L*jnp.cos(phi)]])\n",
        "  ax.plot(pole_new[:,0], pole_new[:,1], 'o-',\n",
        "          color=col if col is not None else 'b')"
      ]
    },
    {
      "cell_type": "markdown",
      "metadata": {
        "id": "rczFtEGoa9VM"
      },
      "source": [
        "# Define Problem"
      ]
    },
    {
      "cell_type": "markdown",
      "metadata": {
        "id": "i49zoXZYnpAc"
      },
      "source": [
        "## Setup Obstacle environment"
      ]
    },
    {
      "cell_type": "code",
      "execution_count": null,
      "metadata": {
        "id": "0RARx_1knq8v"
      },
      "outputs": [],
      "source": [
        "#@title {vertical-output: true}\n",
        "\n",
        "pos_0 = jnp.array([-2.5, 1.5, 0., 0])\n",
        "# pos_0 = jnp.array([-3., 0.5, 0., 0])\n",
        "pos_g = jnp.array([3., -1.5, 0., jnp.pi])\n",
        "\n",
        "obs = [(jnp.array([-1., 0.5]), 0.5),\n",
        "       (jnp.array([0.75, -1.]), 0.75),\n",
        "       (jnp.array([-2., -1.]), 0.5),\n",
        "       (jnp.array([2., 1.]), 0.5)]\n",
        "\n",
        "world_range = (jnp.array([-4., -2.]), jnp.array([4., 2.]))\n",
        "\n",
        "def render_scene():\n",
        "  fig = plt.figure(figsize=(10, 15))\n",
        "  ax = fig.add_subplot(111)\n",
        "  plt.grid(False)\n",
        "  for ob in obs:\n",
        "    ax.add_patch(plt.Circle(ob[0], ob[1], color='k', alpha=0.3))\n",
        "\n",
        "  ax.set_xlim([world_range[0][0], world_range[1][0]])\n",
        "  ax.set_ylim([world_range[0][1], world_range[1][1]])\n",
        "  ax.set_aspect('equal', adjustable='box')\n",
        "\n",
        "  return fig, ax\n",
        "\n",
        "_, ax = render_scene()\n",
        "render_quad(ax, pos_0[0], pos_0[1], pos_0[2], pos_0[3])\n",
        "render_quad(ax, pos_g[0], pos_g[1], pos_g[2], pos_g[3], col='r')"
      ]
    },
    {
      "cell_type": "code",
      "execution_count": null,
      "metadata": {
        "id": "LPQ9tQ6-pB35"
      },
      "outputs": [],
      "source": [
        "# Extract obstacle avoidance constraint\n",
        "def get_closest_point(endp, p_o):\n",
        "  \"\"\"Get closest point between point and straight-line between endpoints.\"\"\"\n",
        "  x, y = endp\n",
        "  t_ = jnp.vdot(p_o - x, y - x)/jnp.vdot(y - x, y - x)\n",
        "  t_min = jnp.minimum(1., jnp.maximum(0., t_))\n",
        "  p_min = x + t_min * (y - x)\n",
        "  return p_min\n",
        "\n",
        "def obs_constraint(q):\n",
        "  pos = q[:2]\n",
        "  theta = q[2]\n",
        "  phi = q[-1]\n",
        "\n",
        "  R = jnp.array([[jnp.cos(theta), -jnp.sin(theta)],\n",
        "                [jnp.sin(theta), jnp.cos(theta)]])\n",
        "  pos_c = pos + R @ jnp.array([0., 0.15*l])\n",
        "  pole = (pos,\n",
        "          pos + jnp.array([L*jnp.sin(phi), -L*jnp.cos(phi)]))\n",
        "\n",
        "  def avoid_obs(pos_c, pole, ob):\n",
        "    delta_body = pos_c - ob[0]\n",
        "    body_dist_sq = jnp.vdot(delta_body, delta_body) - (ob[1] + l)**2\n",
        "    pole_p = get_closest_point(pole, ob[0])\n",
        "    delta_pole = pole_p - ob[0]\n",
        "    pole_dist_sq = jnp.vdot(delta_pole, delta_pole) - (ob[1]**2)\n",
        "    return jnp.array([body_dist_sq, pole_dist_sq])\n",
        "\n",
        "  return jnp.concatenate([avoid_obs(pos_c, pole, ob) for ob in obs])\n"
      ]
    },
    {
      "cell_type": "markdown",
      "metadata": {
        "id": "qhvlFrKU9Y3u"
      },
      "source": [
        "## Setup Dynamics, cost, constraints"
      ]
    },
    {
      "cell_type": "code",
      "execution_count": null,
      "metadata": {
        "id": "ED8AjK0o6ZqW"
      },
      "outputs": [],
      "source": [
        "# Constants\n",
        "n, m, T = (8, 2, 160)\n",
        "\n",
        "# Do angle wrapping on theta and phi\n",
        "s1_ind = (2, 3)\n",
        "state_wrap = util.get_s1_wrapper(s1_ind)\n",
        "\n",
        "# Goal and terminal cost\n",
        "goal = jnp.concatenate((pos_g, jnp.zeros((4,))))\n",
        "\n",
        "@jax.jit\n",
        "def cost(x, u, t, weights=(1., 1., 1.), Q_T=(1., 1., 1., 1., 1., 1., 1., 1.)):\n",
        "\n",
        "  delta = state_wrap(x - goal)\n",
        "  pos_cost = jnp.vdot(delta[:3], delta[:3]) + (1. + jnp.cos(x[3]))\n",
        "  ctrl_cost = jnp.vdot(u - u_hover, u - u_hover)\n",
        "\n",
        "  stage_cost = weights[0] * pos_cost + weights[1] * ctrl_cost\n",
        "  term_cost = weights[2] * jnp.vdot(delta, jnp.array(Q_T) * delta)\n",
        "\n",
        "  return jnp.where(t==T, 0.5*term_cost, 0.5*stage_cost)\n",
        "\n",
        "@jax.jit\n",
        "def state_constraint(x, t, theta_lim=jnp.pi/2.):\n",
        "  # Require c_x(x[t], t) \u003e= 0\n",
        "  # theta \\in [-theta_lim, theta_lim]\n",
        "  theta_cons = jnp.array((x[2] + theta_lim,\n",
        "                         theta_lim - x[2]))\n",
        "\n",
        "  # obs cons\n",
        "  avoid_cons = obs_constraint(x[:4])\n",
        "\n",
        "  # world_cons\n",
        "  world_cons = jnp.concatenate((x[:2] - world_range[0],\n",
        "                               world_range[1] - x[:2]))\n",
        "\n",
        "  return jnp.concatenate((theta_cons, world_cons, avoid_cons))\n",
        "\n",
        "control_bounds = (0.1*Mass*grav*jnp.ones((m,)),\n",
        "                  3.0*Mass*grav*jnp.ones((m,)))"
      ]
    },
    {
      "cell_type": "markdown",
      "metadata": {
        "id": "aPR8396UPpPW"
      },
      "source": [
        "# Define Solver"
      ]
    },
    {
      "cell_type": "code",
      "execution_count": null,
      "metadata": {
        "id": "T5StzngsNgBZ"
      },
      "outputs": [],
      "source": [
        "# Define Solver\n",
        "\n",
        "# OPEN:\n",
        "# QP_ECOS: FAIL\n",
        "# QP_ALILQR: LATE STALL\n",
        "\n",
        "# STABLE:\n",
        "# QP_ECOS: EARLY STALL\n",
        "# QP_ALILQR: EARLY STALL\n",
        "\n",
        "# Sensitivity methods:\n",
        "# qp_solver: QP_ECOS:\n",
        "# SENS: {1e-3, 0.1}; SOLVED\n",
        "# APPROX_SENS: {1e-3}; SOLVED\n",
        "\n",
        "# qp_solver: QP_ALILQR:\n",
        "# SENS: {1e-3, 0.1}, {1e-4, [0.1, 1.0]}; SOLVED\n",
        "# APPROX_SENS {1e-4}; SOLVED\n",
        "\n",
        "solver_options = dict(method=shootsqp.SQP_METHOD.APPROX_SENS,\n",
        "                      qp_solver=shootsqp.QP_SOLVER.QP_ALILQR,\n",
        "                      hess=\"full\", verbose=True,\n",
        "                      max_iter=100, ls_eta=0.49, ls_beta=0.8,\n",
        "                      primal_tol=1e-3, dual_tol=1e-2, stall_check=\"abs\",\n",
        "                      ddp_options={'ddp_gamma': 1e-4, 'ddp_gamma_ratio': 1.0},\n",
        "                      debug=False)\n",
        "\n",
        "solver = shootsqp.ShootSQP(n, m, T, dynamics, cost, control_bounds,\n",
        "                           state_constraint, s1_ind=s1_ind, **solver_options)"
      ]
    },
    {
      "cell_type": "markdown",
      "metadata": {
        "id": "Gl9XJEtA9eOW"
      },
      "source": [
        "# Solve"
      ]
    },
    {
      "cell_type": "markdown",
      "metadata": {
        "id": "uI1_S0UrcXSs"
      },
      "source": [
        "## Set initial conditions and guess"
      ]
    },
    {
      "cell_type": "code",
      "execution_count": null,
      "metadata": {
        "id": "3JpUIKqNQ-UM"
      },
      "outputs": [],
      "source": [
        "# Solve\n",
        "x0 = jnp.concatenate((pos_0, jnp.zeros((4,))))\n",
        "U0 = jnp.tile(u_hover, (T, 1))\n",
        "\n",
        "weights = (0.01, 0.05, 5.)\n",
        "Q_T = (10., 10., 1., 1., 1., 1., 1., 1.)\n",
        "theta_lim = 3.*jnp.pi/4.\n",
        "\n",
        "cost_params = (weights, Q_T)\n",
        "cons_params = (theta_lim,)\n",
        "prob_params = (cost_params, cons_params)"
      ]
    },
    {
      "cell_type": "markdown",
      "metadata": {
        "id": "f58RVv6CcZWS"
      },
      "source": [
        "## Solve"
      ]
    },
    {
      "cell_type": "code",
      "execution_count": null,
      "metadata": {
        "id": "J_B-cE_z9sYK"
      },
      "outputs": [],
      "source": [
        "# Run for one iteration to jit first\n",
        "solver.opt.max_iter = 1\n",
        "_ = solver.solve(x0, U0, params=prob_params)"
      ]
    },
    {
      "cell_type": "code",
      "execution_count": null,
      "metadata": {
        "id": "Ml6IJw9L90JD"
      },
      "outputs": [],
      "source": [
        "# Run to completion\n",
        "solver.opt.max_iter = 100\n",
        "soln = solver.solve(x0, U0, params=prob_params)"
      ]
    },
    {
      "cell_type": "code",
      "execution_count": null,
      "metadata": {
        "id": "IXSE-rU1kHrD"
      },
      "outputs": [],
      "source": [
        "print(soln.iterations, soln.objective)\n",
        "soln.kkt_residuals"
      ]
    },
    {
      "cell_type": "code",
      "execution_count": null,
      "metadata": {
        "id": "vevwPEdTqnTt"
      },
      "outputs": [],
      "source": [
        "#@title {vertical-output: true}\n",
        "%matplotlib inline\n",
        "\n",
        "U, X = soln.primals\n",
        "\n",
        "fig, axs = plt.subplots(4, figsize=(10, 16), sharex=False)\n",
        "\n",
        "# Plot trajectory\n",
        "axs[0].plot(X[:, 0], X[:, 1])\n",
        "# Obstacles\n",
        "for ob in obs:\n",
        "  axs[0].add_patch(plt.Circle(ob[0], ob[1], color='k', alpha=0.3))\n",
        "# Orientations\n",
        "for t in range(T+1):\n",
        "  axs[0].arrow(\n",
        "      X[t, 0], X[t, 1],\n",
        "      -0.1 * jnp.sin(X[t, 2]), 0.1 * jnp.cos(X[t, 2]),\n",
        "      width=0.01, color='c')\n",
        "axs[0].grid(True)\n",
        "axs[0].set_aspect('equal')\n",
        "axs[0].set_xlabel('X')\n",
        "axs[0].set_ylabel('Y')\n",
        "\n",
        "axs[1].plot(jnp.arange(0, T)*dt, U)\n",
        "axs[1].plot(jnp.arange(0, T)*dt, control_bounds[0][0]*jnp.ones_like(U), 'k--')\n",
        "axs[1].plot(jnp.arange(0, T)*dt, control_bounds[1][0]*jnp.ones_like(U), 'k--')\n",
        "axs[1].grid(True)\n",
        "axs[1].set_ylabel('F')\n",
        "\n",
        "axs[2].plot(jnp.arange(0, T+1)*dt, X[:, 2])\n",
        "axs[2].plot(jnp.arange(0, T+1)*dt, X[:, 3], '--')\n",
        "axs[2].grid(True)\n",
        "axs[2].set_ylabel('theta/phi')\n",
        "\n",
        "axs[3].plot(jnp.arange(0, T+1)*dt, X[:, 4:])\n",
        "axs[3].grid(True)\n",
        "axs[3].set_ylabel('vel')\n"
      ]
    },
    {
      "cell_type": "markdown",
      "metadata": {
        "id": "c8JAuARd-AH2"
      },
      "source": [
        "# Plot timelapse"
      ]
    },
    {
      "cell_type": "code",
      "execution_count": null,
      "metadata": {
        "id": "GjTvSgm1Znky"
      },
      "outputs": [],
      "source": [
        "# Timelapse\n",
        "\n",
        "def gen_timelapse(ax, X, step0, stepr):\n",
        "  \"\"\"Gen timelapse.\n",
        "\n",
        "  step0: initial step size\n",
        "  stepr: step-size increase/decrease ratio.\"\"\"\n",
        "\n",
        "  # Obstacles\n",
        "  for ob in obs:\n",
        "    ax.add_patch(plt.Circle(ob[0], ob[1], color='k', alpha=0.5))\n",
        "\n",
        "  # Traj trace\n",
        "  X_pole = jax.vmap(\n",
        "      lambda x, y, phi: jnp.array([x + L*jnp.sin(phi), y - L*jnp.cos(phi)]))(\n",
        "          X[:, 0], X[:, 1], X[:, 3])\n",
        "\n",
        "  ax.plot(X[:, 0], X[:, 1], 'k--', linewidth=2)\n",
        "  ax.plot(X_pole[:, 0], X_pole[:, 1], 'b--', linewidth=1)\n",
        "  ax.set_xlim([world_range[0][0], world_range[1][0]])\n",
        "  ax.set_ylim([world_range[0][1], world_range[1][1]])\n",
        "  ax.set_aspect('equal')\n",
        "\n",
        "  tt = 0\n",
        "  it = 0\n",
        "  # print(step0)\n",
        "  while tt \u003c X.shape[0]:\n",
        "    col = None\n",
        "    if tt == 0:\n",
        "      col = 'g'\n",
        "    render_quad(ax, X[tt, 0], X[tt, 1], X[tt, 2], X[tt, 3], col, 0.03)\n",
        "    tt += int(step0 * (stepr ** it))\n",
        "    it += 1\n",
        "\n",
        "  # print(step0 * (stepr ** (it-1)))\n",
        "\n",
        "  render_quad(ax, X[-1, 0], X[-1, 1], X[-1, 2], X[-1, 3], 'r', 0.03)\n",
        "\n",
        "  # Start\n",
        "  ax.add_patch(plt.Circle([X[0, 0], X[0, 1]], 0.1, color='g', alpha=0.3))\n",
        "  # End\n",
        "  ax.add_patch(plt.Circle([pos_g[0], pos_g[1]], 0.1, color='r', alpha=0.3))\n"
      ]
    },
    {
      "cell_type": "code",
      "execution_count": null,
      "metadata": {
        "id": "dw_4f_NLbC_5"
      },
      "outputs": [],
      "source": [
        "fig = plt.figure(figsize=(16, 9))\n",
        "ax = fig.add_subplot(111)\n",
        "plt.grid(False)\n",
        "\n",
        "gen_timelapse(ax, X, int(0.1/dt), 1.02)\n"
      ]
    },
    {
      "cell_type": "markdown",
      "metadata": {
        "id": "htUm9bSJzC8B"
      },
      "source": [
        "# Generate animation"
      ]
    },
    {
      "cell_type": "code",
      "execution_count": null,
      "metadata": {
        "id": "ndP9VOYRF8QX"
      },
      "outputs": [],
      "source": [
        "from matplotlib import animation\n",
        "from IPython.display import HTML"
      ]
    },
    {
      "cell_type": "code",
      "execution_count": null,
      "metadata": {
        "id": "szspfmgdHzn5"
      },
      "outputs": [],
      "source": [
        "def gen_movie(fig, ax, X):\n",
        "  \"\"\"Generate movie.\"\"\"\n",
        "\n",
        "  def render(tt):\n",
        "    ax.clear()\n",
        "    # Quad\n",
        "    render_quad(ax, X[tt, 0], X[tt, 1], X[tt, 2], X[tt, 3])\n",
        "    # Obstacles\n",
        "    for ob in obs:\n",
        "      ax.add_patch(plt.Circle(ob[0], ob[1], color='k', alpha=0.3))\n",
        "    # Traj trace\n",
        "    tt_s = int(max(tt - round(0.5/dt), 0))\n",
        "    ax.plot(X[tt_s:tt, 0], X[tt_s:tt, 1], 'r-', linewidth=2)\n",
        "    ax.set_xlim([world_range[0][0], world_range[1][0]])\n",
        "    ax.set_ylim([world_range[0][1], world_range[1][1]])\n",
        "    ax.set_aspect('equal', adjustable='box')\n",
        "    return [ax]\n",
        "\n",
        "  anim = animation.FuncAnimation(\n",
        "      fig,\n",
        "      lambda tt: render(tt),\n",
        "      frames=range(0, X.shape[0]),\n",
        "      interval=1000 * dt,\n",
        "      repeat_delay=3000)\n",
        "  plt.close(fig)\n",
        "\n",
        "  return anim"
      ]
    },
    {
      "cell_type": "code",
      "execution_count": null,
      "metadata": {
        "id": "SsYCSsnaw7gk"
      },
      "outputs": [],
      "source": [
        "#@title {vertical-output: true}\n",
        "\n",
        "fig = plt.figure()\n",
        "ax = fig.add_subplot(111)\n",
        "plt.grid(True)\n",
        "plt.axis('off')\n",
        "anim = gen_movie(fig, ax, X).to_html5_video()\n",
        "HTML(anim)"
      ]
    },
    {
      "cell_type": "markdown",
      "metadata": {
        "id": "k9X6g8Z4-R9Q"
      },
      "source": [
        "# Plot solver progress"
      ]
    },
    {
      "cell_type": "code",
      "execution_count": null,
      "metadata": {
        "id": "ad9brRIC-oN6"
      },
      "outputs": [],
      "source": [
        "import seaborn as sns\n",
        "colors = sns.color_palette(\"tab10\")\n",
        "color = colors[1]"
      ]
    },
    {
      "cell_type": "code",
      "execution_count": null,
      "metadata": {
        "id": "wJ0rNCyXc0TU"
      },
      "outputs": [],
      "source": [
        "history = soln.history\n",
        "history.keys()"
      ]
    },
    {
      "cell_type": "code",
      "execution_count": null,
      "metadata": {
        "id": "wOJraXIY-T9e"
      },
      "outputs": [],
      "source": [
        "#@title {vertical-output: true}\n",
        "%matplotlib inline\n",
        "\n",
        "plt.rcParams.update({'font.size': 24})\n",
        "matplotlib.rcParams['pdf.fonttype'] = 42\n",
        "matplotlib.rcParams['ps.fonttype'] = 42\n",
        "\n",
        "fig, axs = plt.subplots(2, 2, figsize=(15, 15))\n",
        "\n",
        "axs[0][0].plot(history['steplength'], color=colors[0], linewidth=2)\n",
        "axs[0][0].set_title('Step size')\n",
        "axs[0][0].grid(True)\n",
        "\n",
        "axs[0][1].plot(history['obj'], color=colors[0], linewidth=2)\n",
        "axs[0][1].set_title('Objective')\n",
        "axs[0][1].set_yscale('log')\n",
        "axs[0][1].grid(True)\n",
        "\n",
        "axs[1][0].plot(history['min_viol'], color=colors[0], linewidth=2)\n",
        "axs[1][0].set_title('Min constraint viol.')\n",
        "axs[1][0].set_xlabel('Iteration')\n",
        "axs[1][0].grid(True)\n",
        "\n",
        "if 'ddp_err' in history:\n",
        "  axs[1][1].plot(history['ddp_err'], color=colors[0], linewidth=2)\n",
        "  axs2 = axs[1][1].twinx()\n",
        "  axs2.plot(history['ddp_err_grad'], color=colors[1], linewidth=2)\n",
        "  axs2.set_yscale(\"log\")\n",
        "  axs[1][1].set_title('DDP errors')\n",
        "  axs[1][1].set_xlabel('Iteration')\n",
        "  axs[1][1].grid(True)"
      ]
    },
    {
      "cell_type": "code",
      "execution_count": null,
      "metadata": {
        "id": "5aTlPdexOx15"
      },
      "outputs": [],
      "source": [
        "#@title {vertical-output: true}\n",
        "%matplotlib inline\n",
        "\n",
        "plt.rcParams.update({'font.size': 24})\n",
        "matplotlib.rcParams['pdf.fonttype'] = 42\n",
        "matplotlib.rcParams['ps.fonttype'] = 42\n",
        "\n",
        "fig, axs = plt.subplots(2, 2, figsize=(15, 15))\n",
        "\n",
        "axs[0][0].plot(history['steplength'], color=colors[0], linewidth=2)\n",
        "axs[0][0].set_title('Step size')\n",
        "axs[0][0].grid(True)\n",
        "\n",
        "axs[0][1].plot(history['obj'], color=colors[0], linewidth=2)\n",
        "axs[0][1].set_title('Objective')\n",
        "axs[0][1].set_yscale('log')\n",
        "axs[0][1].grid(True)\n",
        "\n",
        "axs[1][0].plot(history['min_viol'], color=colors[0], linewidth=2)\n",
        "axs[1][0].set_title('Min constraint viol.')\n",
        "axs[1][0].set_xlabel('Iteration')\n",
        "axs[1][0].grid(True)\n",
        "\n",
        "if 'ddp_err' in history:\n",
        "  axs[1][1].plot(history['ddp_err'], color=colors[0], linewidth=2)\n",
        "  axs2 = axs[1][1].twinx()\n",
        "  axs2.plot(history['ddp_err_grad'], color=colors[1], linewidth=2)\n",
        "  axs2.set_yscale(\"log\")\n",
        "  axs[1][1].set_title('DDP errors')\n",
        "  axs[1][1].set_xlabel('Iteration')\n",
        "  axs[1][1].grid(True)"
      ]
    },
    {
      "cell_type": "code",
      "execution_count": null,
      "metadata": {
        "id": "EHP0-tXfgOyQ"
      },
      "outputs": [],
      "source": []
    }
  ],
  "metadata": {
    "colab": {
      "provenance": [],
      "toc_visible": true
    },
    "kernelspec": {
      "display_name": "Python 3",
      "name": "python3"
    },
    "language_info": {
      "name": "python"
    }
  },
  "nbformat": 4,
  "nbformat_minor": 0
}
