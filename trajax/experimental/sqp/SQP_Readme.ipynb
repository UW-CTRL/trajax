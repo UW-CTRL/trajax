{
  "cells": [
    {
      "cell_type": "code",
      "execution_count": null,
      "metadata": {
        "id": "uC_9NTXXdiBF"
      },
      "outputs": [],
      "source": [
        "\n",
        "# Licensed under the Apache License, Version 2.0 (the \"License\");\n",
        "# you may not use this file except in compliance with the License.\n",
        "# You may obtain a copy of the License at\n",
        "#\n",
        "# https://www.apache.org/licenses/LICENSE-2.0\n",
        "#\n",
        "# Unless required by applicable law or agreed to in writing, software\n",
        "# distributed under the License is distributed on an \"AS IS\" BASIS,\n",
        "# WITHOUT WARRANTIES OR CONDITIONS OF ANY KIND, either express or implied.\n",
        "# See the License for the specific language governing permissions and\n",
        "# limitations under the License.\n",
        "     "
      ]
    },
    {
      "cell_type": "markdown",
      "metadata": {
        "id": "FFdsL61geGe1"
      },
      "source": [
        "# NOTE: This Colab is only for documentation"
      ]
    },
    {
      "cell_type": "markdown",
      "metadata": {
        "id": "KlRblqS7eJ5Y"
      },
      "source": [
        "## Constrained Trajectory Optimization\n",
        "\n",
        "Trajectory optimization forms the backbone of model-based optimal control with\n",
        "myriad applications in robot mobility and manipulation. The problem formulation\n",
        "adopted within this library is as follows: consider a system with state $x \\in\n",
        "\\mathbb{R}^n$, control input $u \\in \\mathbb{R}^m$, subject to the\n",
        "discrete-time dynamics: \n",
        "\\begin{equation} x_{k+1} = f_k(x_k, u_k), \\quad k \\in\n",
        "\\mathbb{N}_{\\geq 0}.\n",
        "\\end{equation}\n",
        "Let $T \\in \\mathbb{N}_{\u003e0}$ be some fixed\n",
        "planning horizon. Given some initial state $x_0$, the trajectory optimization\n",
        "problem is as follows:\n",
        "$$\n",
        "\\begin{eqnarray} \\min_{\\bf{u}, \\bf{x}} \\qquad\n",
        "\u0026\\sum_{k=0}^{T-1} l_k(x_k, u_k) + l_T(x_N)  \\\\ \n",
        "\\textrm{s.t.}\n",
        "\\qquad \u0026 k=0,\\ldots,T-1: \\quad \\begin{cases} x_{k+1} = f(x_k, u_k) \\\\ \n",
        "c_k^u(u_k)\n",
        "\\geq 0 \\\\ c_{k+1}^x(x_{k+1}) \\geq 0 \\end{cases},\n",
        "\\end{eqnarray}\n",
        "$$\n",
        "where we use\n",
        "$(\\bf{u}, \\bf{x})$ to denote the concatenations $(u_0, \\ldots, u_{T-1})$ and\n",
        "$(x_0, \\ldots, x_{T})$, respectively. Here, \n",
        "$$\n",
        "\\begin{eqnarray} \u0026l_k :\n",
        "\u0026\\mathbb{R}^n \\times \\mathbb{R}^m \\rightarrow \\mathbb{R}_{\\geq 0} \\qquad\n",
        "\u0026\\textrm{running cost} \\\\ \n",
        "\u0026l_T: \u0026\\mathbb{R}^n \\rightarrow \\mathbb{R}_{\\geq 0}\n",
        "\\qquad \u0026 \\textrm{terminal cost} \\\\ \n",
        "\u0026c_k^x : \u0026\\mathbb{R}^n \\rightarrow\n",
        "\\mathbb{R}^{n_x} \\qquad \u0026\\textrm{state-constraint function} \\\\ \n",
        "\u0026c_k^u:\n",
        "\u0026\\mathbb{R}^m \\rightarrow \\mathbb{R}^{n_u} \\qquad \u0026\\textrm{control-constraint\n",
        "function} \n",
        "\\end{eqnarray}\n",
        "$$\n",
        "We assume that the control constraint encodes simple\n",
        "box constraints: $\\underline{u} \\leq u_k \\leq \\overline{u}$.\n",
        "\n",
        "This library allows specifying problems of the above form and provides a\n",
        "Shooting-based SQP solver. For algorithmic details, please see\n",
        "[Singh et al.](https://arxiv.org/pdf/2109.07081.pdf)"
      ]
    },
    {
      "cell_type": "markdown",
      "metadata": {
        "id": "fqF7XvUPe8AV"
      },
      "source": [
        "## Specifying Problems\n",
        "\n",
        "We demonstrate how to define and solve a problem using the `shootsqp` library.\n",
        "\n",
        "### Basic Setup\n",
        "\n",
        "Given the problem formulation above, user must define the following*:\n",
        "\n",
        "| Input                              | Description                             |\n",
        "| ---------------------------------- | --------------------------------------- |\n",
        "| `n: int`                           | state-dimension                        |\n",
        "| `m: int`                           | control-dimension                      |\n",
        "| `T: int`                           | horizon                                 |\n",
        "| `dynamics: Callable[[x, u, k], x]` | modeling the discrete-time dynamics function $f_k$.                    |\n",
        "| `cost: Callable[[x, u, k,  *cost_params], float]`  | modeling the stage-$k$ cost function $l_k$, where `cost_params` is a tuple of custom parameters.\u003cbr\u003e Note that this function must represent both the stage-wise ($\\{l_k\\}_{k=0}^{T-1}$)  and terminal ($l_T$) costs, \u003cbr\u003e e.g., using `jnp.where`.    \u003cbr\u003e |\n",
        "| `control_bounds: Tuple[u, u]`      | Tuple of lower ($\\underline{u}$) and  upper ($\\overline{u}$) control bound  vectors. |\n",
        "| `state_constraint: Callable[[x, k, *constraint_params], ndarray]` | modeling the stage-$k$ state-constraint function $c_k^x$ where `constraint_params` \u003cbr\u003e is a tuple of custom parameters. |\n",
        "\n",
        "\n",
        "---\n",
        "\n",
        "\n",
        "*Type notation `x: (n,)-ndarray, u: (m,)-ndarray, k: int`."
      ]
    },
    {
      "cell_type": "markdown",
      "metadata": {
        "id": "AxIAg9GGgN_H"
      },
      "source": [
        "If there are no further constraints, we can define a dictionary of solver\n",
        "options (see below for a description of some key options) and instantiate a\n",
        "`ShootSQP` solver instance as follows:\n",
        "\n",
        "```python\n",
        "prob = shootsqp.ShootSQP(n, m, T, dynamics, cost, control_bounds, state_constraint, **solver_options)\n",
        "```\n",
        "\n",
        "The returned object's `solve` method can now be used to solve multiple problems\n",
        "(without re-instantiation), given:\n",
        "\n",
        "*   an initial state `x_0: (n,)-ndarray`\n",
        "*   control trajectory guess `U0: (T, m)-ndarray`\n",
        "*   (optional) state trajectory guess `X0: (T+1, n)-ndarray`\n",
        "*   problem parameters `params: Tuple[cost_params_tuple,\n",
        "    constraint_params_tuple]`, corresponding to the custom parameter tuples for\n",
        "    the cost and state-constraint functions.\n",
        "\n",
        "If however, there are components of the state that lie within the\n",
        "$\\mathcal{S}^1$ sphere (as is often the case for Robotics), please see the $\\mathcal{S}^1$ manifold section below for additional details regarding solver\n",
        "instantiation."
      ]
    },
    {
      "cell_type": "markdown",
      "metadata": {
        "id": "ekJLD_iHgdFm"
      },
      "source": [
        "### Some Key Solver Options\n",
        "\n",
        "For a list of all solver options, please see the paper reference and\n",
        "*shootsqp.py*. All options are accessible via `prob.opt`. NOTE: once the `solve`\n",
        "method is called with some problem data, not all options can be reset due to jit\n",
        "pre-compilation. Future releases will make clear what options are mutable and\n",
        "what are held fixed. Some important solver options are described below:\n",
        "\n",
        "| Option            | Description                                              |\n",
        "| ----------------- | -------------------------------------------------------- |\n",
        "| `method: str`     | SQP variation. One of {`SQP_METHODS.OPEN`, `SQP_METHODS.STABLE`, `SQP_METHODS.SENS`, `SQP_METHODS.APPROX_SENS`}. \u003cbr\u003e `OPEN` variant uses open-loop rollouts; `STABLE` variant features closed-loop rollouts in the update, using TV-LQR generated \u003cbr\u003e gains. `SENS` also features closed-loop rollouts, but using the \"DDP-sensitivity\" method from the cited reference. \u003cbr\u003e`APPROX_SENS` uses an approximation of the sensitivity computation.\n",
        "| `proj_init: bool` | If `True`, user must also supply an initial guess for the state trajectory `X0 : (T+1, n)-ndarray`. The solver will begin \u003cbr\u003e optimization by performing a closed-loop  rollout to generate a dynamically feasible initial trajectory that is close to `X0`. |\n",
        "| `hess: str`       | Hessian type. One of {`full`, `gn`}. `full` refers to the full Lagrangian Hessian, while `gn` refers to the Gauss-Newton \u003cbr\u003e approximation (which drops 2nd order dynamics gradients).                 |\n",
        "| `qp_solver: str`  | Solver type for QP sub-problem. One of {`QP_SOLVERS.QP_ECOS, QP_SOLVERS.QP_CVX, QP_SOLVERS.QP_ALILQR`}. \u003cbr\u003e The first two correspond to cvxpy solvers. The third uses trajax's constrained-iLQR method. |\n",
        "| `do_log: bool`    | Enables/disables solution progress logging. Set to  `False` for speed-sensitive applications.  |\n",
        "| `max_iter: int`   | Maximum SQP iterations. Note that the first time the `solve` method is called, it needs to jit all relevant methods.\u003cbr\u003e So, for speed-sensitive applications, it is recommended to initialize the problem with `max_iter = 1`, solve a dummy \u003cbr\u003e instance to jit everything, and then  reset this option as: `prob.opt.max_iter =   \u003cdesired_value\u003e`.        |\n",
        "\n",
        "---"
      ]
    },
    {
      "cell_type": "markdown",
      "metadata": {
        "id": "iPZZxBHBnmSK"
      },
      "source": [
        "## Handling $\\mathcal{S}^1$ manifold constraints\n",
        "\n",
        "For systems where components of the state lie on the $\\mathcal{S}^1$ sphere\n",
        "(or a subset thereof), one must be careful with the handling of these states\n",
        "during optimization. As a concrete example, suppose $\\theta$ is a component of\n",
        "the state that is supposed to lie within $\\mathcal{S}^1$. There are two\n",
        "distinct scenarios for the treatment of $\\theta$:\n",
        "\n",
        "*   Case 1: Allowable range: $\\theta \\in [-\\pi, \\pi]$. One can treat\n",
        "    $\\theta$ as an \"unbounded\" variable (i.e., not subject to any limit\n",
        "    constraints). This is because $\\theta$ is likely to appear within\n",
        "    objective and constraints only via trignometric transformations.\n",
        "*   Case 2: Allowable range: $\\theta \\in [\\underline{\\theta},\n",
        "    \\overline{\\theta}]$. In this case, one should treat $\\theta$ as just\n",
        "    another variable on the real-line, subject to known bounds.\n",
        "\n",
        "Operationally, we only need to worry about Case 1 since in order for the\n",
        "closed-loop SQP variants to correctly apply feedback on the \"error\" in\n",
        "$\\theta$ during rollouts, the rollout must correctly compute differences on\n",
        "the $\\mathcal{S}^1$ sphere. To do so, we append to the ShootSQP object\n",
        "initialization a tuple of indices indicating the components of state allowed to\n",
        "lie on the full $\\mathcal{S}^$ sphere. Internally, the solver handles any\n",
        "necessary angle-wrapping between optimization iterations.\n",
        "\n",
        "For components of state corresponding to Case 2 above, we incorporate the bound\n",
        "constraints as usual within the `state_constraint` function."
      ]
    },
    {
      "cell_type": "code",
      "execution_count": null,
      "metadata": {
        "id": "b2H80-XueDrB"
      },
      "outputs": [],
      "source": []
    }
  ],
  "metadata": {
    "colab": {
      "last_runtime": {
        "build_target": "//experimental/conditional_ranking_nce/tasks/rt1:notebook",
        "kind": "private"
      },
      "private_outputs": true,
      "provenance": [
        {
          "file_id": "1YlBni7DV8O1f7aFpjmbMqkPoV3k-or28",
          "timestamp": 1686070365199
        }
      ],
      "toc_visible": true
    },
    "kernelspec": {
      "display_name": "Python 3",
      "name": "python3"
    },
    "language_info": {
      "name": "python"
    }
  },
  "nbformat": 4,
  "nbformat_minor": 0
}
